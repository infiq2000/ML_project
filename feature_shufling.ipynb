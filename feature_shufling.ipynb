{
 "cells": [
  {
   "cell_type": "code",
   "execution_count": 1,
   "metadata": {},
   "outputs": [],
   "source": [
    "import pandas as pd \n",
    "import numpy as np \n",
    "\n",
    "from sklearn.model_selection import train_test_split\n",
    "from sklearn.ensemble import RandomForestClassifier, RandomForestRegressor\n",
    "from sklearn.metrics import roc_auc_score, mean_squared_error, r2_score\n",
    "\n"
   ]
  },
  {
   "cell_type": "code",
   "execution_count": 23,
   "metadata": {},
   "outputs": [],
   "source": [
    "data = pd.read_csv(\"./houseprice.csv\")"
   ]
  },
  {
   "cell_type": "code",
   "execution_count": 33,
   "metadata": {},
   "outputs": [
    {
     "data": {
      "text/plain": [
       "(1460, 81)"
      ]
     },
     "execution_count": 33,
     "metadata": {},
     "output_type": "execute_result"
    }
   ],
   "source": [
    "data.shape"
   ]
  },
  {
   "cell_type": "code",
   "execution_count": 36,
   "metadata": {},
   "outputs": [],
   "source": [
    "numeric = [\"int16\", \"int32\", \"int64\", \"float16\",\"float32\",\"float64\"]\n",
    "numerical_val = data.select_dtypes(numeric).columns\n",
    "data = data[numerical_val]"
   ]
  },
  {
   "cell_type": "code",
   "execution_count": 37,
   "metadata": {},
   "outputs": [
    {
     "data": {
      "text/plain": [
       "((1022, 36), (438, 36))"
      ]
     },
     "execution_count": 37,
     "metadata": {},
     "output_type": "execute_result"
    }
   ],
   "source": [
    "X_train, X_test, y_train, y_test = train_test_split(data.drop(labels=[\"Id\",\"SalePrice\"],axis=1),data[\"SalePrice\"], random_state = 0, test_size=0.3)\n",
    "X_train.shape, X_test.shape\n",
    "#drop xóa với axis = 0(row-index) ,axis= 1(column -labels) "
   ]
  },
  {
   "cell_type": "code",
   "execution_count": 41,
   "metadata": {},
   "outputs": [],
   "source": [
    "X_train.reset_index(drop=True, inplace=True)\n",
    "X_train.fillna(0, inplace=True)"
   ]
  },
  {
   "cell_type": "code",
   "execution_count": 42,
   "metadata": {},
   "outputs": [],
   "source": [
    "X_test.reset_index(drop=True, inplace =True)\n",
    "X_test.fillna(0, inplace=True)"
   ]
  },
  {
   "cell_type": "code",
   "execution_count": 43,
   "metadata": {},
   "outputs": [
    {
     "data": {
      "text/plain": [
       "RandomForestRegressor(max_depth=3, n_jobs=12, random_state=2)"
      ]
     },
     "execution_count": 43,
     "metadata": {},
     "output_type": "execute_result"
    }
   ],
   "source": [
    "rf =RandomForestRegressor(n_estimators=100, max_depth=3, random_state=2, n_jobs=12)\n",
    "# n_estimator : số cây\n",
    "# max_depth: độ sâu của mỗi cây\n",
    "# n_jobs: thực hiện đồng thời trên các luồng\n",
    "rf.fit(X_train, y_train)"
   ]
  },
  {
   "cell_type": "code",
   "execution_count": 44,
   "metadata": {},
   "outputs": [
    {
     "data": {
      "text/plain": [
       "33977.057042182314"
      ]
     },
     "execution_count": 44,
     "metadata": {},
     "output_type": "execute_result"
    }
   ],
   "source": [
    "mean_squared_error(y_train, rf.predict(X_train),squared=False)"
   ]
  },
  {
   "cell_type": "code",
   "execution_count": 51,
   "metadata": {},
   "outputs": [],
   "source": [
    "performance_shift = []\n",
    "root_mse = mean_squared_error(y_train,rf.predict(X_train),squared=False)\n",
    "for feature in X_train.columns:\n",
    "    X_train_c =  X_train.copy()\n",
    "    \n",
    "    X_train_c[feature] = X_train_c[feature].sample(frac=1, random_state=11).reset_index(drop=True)\n",
    "    \n",
    "    shuff_rsme = mean_squared_error(y_train, rf.predict(X_train_c),squared=False)\n",
    "    diff = root_mse - shuff_rsme\n",
    "    performance_shift.append(diff)\n",
    "    "
   ]
  },
  {
   "cell_type": "code",
   "execution_count": 52,
   "metadata": {},
   "outputs": [
    {
     "data": {
      "text/plain": [
       "MSSubClass         0.000000\n",
       "LotFrontage       18.431053\n",
       "LotArea         -253.112734\n",
       "OverallQual   -45485.190691\n",
       "OverallCond        0.000000\n",
       "dtype: float64"
      ]
     },
     "execution_count": 52,
     "metadata": {},
     "output_type": "execute_result"
    }
   ],
   "source": [
    "feature_important = pd.Series(performance_shift)\n",
    "feature_important.index = X_train.columns\n",
    "feature_important.head()"
   ]
  },
  {
   "cell_type": "code",
   "execution_count": 54,
   "metadata": {},
   "outputs": [],
   "source": [
    "feat = feature_important[feature_important < 0].index"
   ]
  },
  {
   "cell_type": "code",
   "execution_count": 55,
   "metadata": {},
   "outputs": [],
   "source": [
    "X_train = X_train[feat]\n",
    "X_test = X_test[feat]"
   ]
  },
  {
   "cell_type": "code",
   "execution_count": 56,
   "metadata": {},
   "outputs": [
    {
     "data": {
      "text/plain": [
       "33969.403723258234"
      ]
     },
     "execution_count": 56,
     "metadata": {},
     "output_type": "execute_result"
    }
   ],
   "source": [
    "rf =RandomForestRegressor(n_estimators=100, max_depth=3, random_state=2, n_jobs=12)\n",
    "# n_estimator : số cây\n",
    "# max_depth: độ sâu của mỗi cây\n",
    "# n_jobs: thực hiện đồng thời trên các luồng\n",
    "rf.fit(X_train, y_train)\n",
    "mean_squared_error(y_train, rf.predict(X_train),squared=False)\n"
   ]
  },
  {
   "cell_type": "code",
   "execution_count": 57,
   "metadata": {},
   "outputs": [
    {
     "data": {
      "text/plain": [
       "39156.413985496656"
      ]
     },
     "execution_count": 57,
     "metadata": {},
     "output_type": "execute_result"
    }
   ],
   "source": [
    "mean_squared_error(y_test, rf.predict(X_test),squared=False)"
   ]
  },
  {
   "cell_type": "code",
   "execution_count": null,
   "metadata": {},
   "outputs": [],
   "source": []
  }
 ],
 "metadata": {
  "interpreter": {
   "hash": "76f5fe39443e87364fb9f87df6c450c683a0d5c6e22d011811809953e89ae77d"
  },
  "kernelspec": {
   "display_name": "Python 3.8.5 64-bit ('myproject': conda)",
   "language": "python",
   "name": "python3"
  },
  "language_info": {
   "codemirror_mode": {
    "name": "ipython",
    "version": 3
   },
   "file_extension": ".py",
   "mimetype": "text/x-python",
   "name": "python",
   "nbconvert_exporter": "python",
   "pygments_lexer": "ipython3",
   "version": "3.8.5"
  },
  "orig_nbformat": 4
 },
 "nbformat": 4,
 "nbformat_minor": 2
}
